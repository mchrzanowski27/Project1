{
 "cells": [
  {
   "cell_type": "code",
   "execution_count": 1,
   "id": "29c6a805",
   "metadata": {},
   "outputs": [],
   "source": [
    "import matplotlib.pyplot as plt\n",
    "import pandas as pd\n",
    "import numpy as np\n",
    "import requests\n",
    "import csv\n",
    "from scipy.stats import linregress"
   ]
  },
  {
   "cell_type": "code",
   "execution_count": 2,
   "id": "802ab493",
   "metadata": {
    "scrolled": false
   },
   "outputs": [
    {
     "data": {
      "text/html": [
       "<div>\n",
       "<style scoped>\n",
       "    .dataframe tbody tr th:only-of-type {\n",
       "        vertical-align: middle;\n",
       "    }\n",
       "\n",
       "    .dataframe tbody tr th {\n",
       "        vertical-align: top;\n",
       "    }\n",
       "\n",
       "    .dataframe thead th {\n",
       "        text-align: right;\n",
       "    }\n",
       "</style>\n",
       "<table border=\"1\" class=\"dataframe\">\n",
       "  <thead>\n",
       "    <tr style=\"text-align: right;\">\n",
       "      <th></th>\n",
       "      <th>Unnamed: 0</th>\n",
       "      <th>DATE</th>\n",
       "      <th>TXHARR1POP</th>\n",
       "      <th>Hurricane</th>\n",
       "      <th>Hurricane Date</th>\n",
       "      <th>Location</th>\n",
       "      <th>Delta</th>\n",
       "    </tr>\n",
       "  </thead>\n",
       "  <tbody>\n",
       "    <tr>\n",
       "      <th>0</th>\n",
       "      <td>31</td>\n",
       "      <td>2001-01-01</td>\n",
       "      <td>3483.804</td>\n",
       "      <td>Rita</td>\n",
       "      <td>2005-09-18</td>\n",
       "      <td>Houston Area</td>\n",
       "      <td>-4</td>\n",
       "    </tr>\n",
       "    <tr>\n",
       "      <th>1</th>\n",
       "      <td>32</td>\n",
       "      <td>2002-01-01</td>\n",
       "      <td>3559.095</td>\n",
       "      <td>Rita</td>\n",
       "      <td>2005-09-18</td>\n",
       "      <td>Houston Area</td>\n",
       "      <td>-3</td>\n",
       "    </tr>\n",
       "    <tr>\n",
       "      <th>2</th>\n",
       "      <td>33</td>\n",
       "      <td>2003-01-01</td>\n",
       "      <td>3618.297</td>\n",
       "      <td>Rita</td>\n",
       "      <td>2005-09-18</td>\n",
       "      <td>Houston Area</td>\n",
       "      <td>-2</td>\n",
       "    </tr>\n",
       "    <tr>\n",
       "      <th>3</th>\n",
       "      <td>34</td>\n",
       "      <td>2004-01-01</td>\n",
       "      <td>3672.286</td>\n",
       "      <td>Rita</td>\n",
       "      <td>2005-09-18</td>\n",
       "      <td>Houston Area</td>\n",
       "      <td>-1</td>\n",
       "    </tr>\n",
       "    <tr>\n",
       "      <th>4</th>\n",
       "      <td>35</td>\n",
       "      <td>2005-01-01</td>\n",
       "      <td>3733.714</td>\n",
       "      <td>Rita</td>\n",
       "      <td>2005-09-18</td>\n",
       "      <td>Houston Area</td>\n",
       "      <td>0</td>\n",
       "    </tr>\n",
       "  </tbody>\n",
       "</table>\n",
       "</div>"
      ],
      "text/plain": [
       "   Unnamed: 0        DATE  TXHARR1POP Hurricane Hurricane Date      Location  \\\n",
       "0          31  2001-01-01    3483.804      Rita     2005-09-18  Houston Area   \n",
       "1          32  2002-01-01    3559.095      Rita     2005-09-18  Houston Area   \n",
       "2          33  2003-01-01    3618.297      Rita     2005-09-18  Houston Area   \n",
       "3          34  2004-01-01    3672.286      Rita     2005-09-18  Houston Area   \n",
       "4          35  2005-01-01    3733.714      Rita     2005-09-18  Houston Area   \n",
       "\n",
       "   Delta  \n",
       "0     -4  \n",
       "1     -3  \n",
       "2     -2  \n",
       "3     -1  \n",
       "4      0  "
      ]
     },
     "execution_count": 2,
     "metadata": {},
     "output_type": "execute_result"
    }
   ],
   "source": [
    "# data for population from all hurricanes\n",
    "\n",
    "pop_sandy = \"./CleanEconData/Sandy_cln_population.csv\"\n",
    "pop_sandy_df = pd.read_csv(pop_sandy)\n",
    "pop_sandy_df = pop_sandy_df[['Location','Hurricane','Population','Delta']]\n",
    "\n",
    "pop_rita = \"./CleanEconData/rita_cln_population.csv\"\n",
    "pop_rita_df = pd.read_csv(pop_rita)\n",
    "# pop_rita_df = pop_rita_df[['Location','Hurricane','Population','Delta']]\n",
    "\n",
    "pop_rita_df.head()\n",
    "\n",
    "# pop_katrina = \"./CleanEconData/katrina_cln_population.csv\"\n",
    "# pop_katrina_df = pd.read_csv(pop_katrina)\n",
    "# pop_katrina_df = pop_katrina_df[['Location','Hurricane','Population','Delta']]\n",
    "\n",
    "# pop_ike = \"./CleanEconData/Ike_cln_population.csv\"\n",
    "# pop_ike_df = pd.read_csv(pop_ike)\n",
    "# pop_ike_df = pop_ike_df[['Location','Hurricane','Population','Delta']]\n",
    "\n",
    "# pop_ivan = \"./CleanEconData/Ivan_cln_population.csv\"\n",
    "# pop_ivan_df = pd.read_csv(pop_ivan)\n",
    "# pop_ivan_df = pop_ike_df[['Location','Hurricane','Population','Delta']]\n"
   ]
  },
  {
   "cell_type": "code",
   "execution_count": null,
   "id": "dc532b4e",
   "metadata": {},
   "outputs": [],
   "source": [
    "#merge on Delta with value between -4 and 10\n",
    "\n",
    "pop_merge_df = pd.concat([pop_sandy_df,pop_rita_df, pop_katrina_df,pop_katrina_df,pop_ike_df ])\n",
    "\n",
    "pop_merge_df = pop_merge_df[pop_merge_df['Delta'].between(-4,7)]\n",
    "\n",
    "pop_merge_df.head()\n"
   ]
  },
  {
   "cell_type": "code",
   "execution_count": null,
   "id": "2a298391",
   "metadata": {},
   "outputs": [],
   "source": [
    "pop_merge_df = pop_merge_df.pivot_table( values = 'Population', index=['Delta'], columns = 'Hurricane').reset_index()\n"
   ]
  },
  {
   "cell_type": "code",
   "execution_count": null,
   "id": "6aa9184c",
   "metadata": {},
   "outputs": [],
   "source": [
    "pop_merge_df.plot(x = 'Delta')\n",
    "plt.title('Population Changes Around Hurricane')\n",
    "plt.xlabel('Years Before and After Hurricanes')\n",
    "plt.ylabel('Population (in thousands)')"
   ]
  },
  {
   "cell_type": "code",
   "execution_count": null,
   "id": "d8fa31bd",
   "metadata": {},
   "outputs": [],
   "source": []
  }
 ],
 "metadata": {
  "kernelspec": {
   "display_name": "Python 3 (ipykernel)",
   "language": "python",
   "name": "python3"
  },
  "language_info": {
   "codemirror_mode": {
    "name": "ipython",
    "version": 3
   },
   "file_extension": ".py",
   "mimetype": "text/x-python",
   "name": "python",
   "nbconvert_exporter": "python",
   "pygments_lexer": "ipython3",
   "version": "3.9.7"
  }
 },
 "nbformat": 4,
 "nbformat_minor": 5
}
