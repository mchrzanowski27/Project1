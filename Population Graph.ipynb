{
 "cells": [
  {
   "cell_type": "code",
   "execution_count": 1,
   "id": "d9fc8361",
   "metadata": {},
   "outputs": [],
   "source": [
    "import matplotlib.pyplot as plt\n",
    "import pandas as pd\n",
    "import numpy as np\n",
    "import requests\n",
    "import csv\n",
    "from scipy.stats import linregress"
   ]
  },
  {
   "cell_type": "code",
   "execution_count": 2,
   "id": "7b4cd6c2",
   "metadata": {
    "scrolled": false
   },
   "outputs": [],
   "source": [
    "# data for population from all hurricanes\n",
    "\n",
    "pop_sandy = \"./CleanEconData/Sandy_cln_population.csv\"\n",
    "pop_sandy_df = pd.read_csv(pop_sandy)\n",
    "pop_sandy_df = pop_sandy_df[['Location','Population','Delta']]\n",
    "\n",
    "pop_rita = \"./CleanEconData/rita_cln_population.csv\"\n",
    "pop_rita_df = pd.read_csv(pop_rita)\n",
    "pop_rita_df = pop_rita_df[['Location','Population','Delta']]\n",
    "\n",
    "pop_katrina = \"./CleanEconData/katrina_cln_population.csv\"\n",
    "pop_katrina_df = pd.read_csv(pop_katrina)\n",
    "pop_katrina_df = pop_katrina_df[['Location','NORPOP','Delta']]\n",
    "pop_katrina_df = pop_katrina_df.rename(columns = {'NORPOP': 'Population'})\n",
    "\n",
    "pop_ike = \"./CleanEconData/Ike_Pop_df.csv\"\n",
    "pop_ike_df = pd.read_csv(pop_ike)\n",
    "pop_ike_df = pop_ike_df[['Location','Population','Delta']]\n"
   ]
  },
  {
   "cell_type": "code",
   "execution_count": 3,
   "id": "c87f3b71",
   "metadata": {},
   "outputs": [
    {
     "data": {
      "text/html": [
       "<div>\n",
       "<style scoped>\n",
       "    .dataframe tbody tr th:only-of-type {\n",
       "        vertical-align: middle;\n",
       "    }\n",
       "\n",
       "    .dataframe tbody tr th {\n",
       "        vertical-align: top;\n",
       "    }\n",
       "\n",
       "    .dataframe thead th {\n",
       "        text-align: right;\n",
       "    }\n",
       "</style>\n",
       "<table border=\"1\" class=\"dataframe\">\n",
       "  <thead>\n",
       "    <tr style=\"text-align: right;\">\n",
       "      <th></th>\n",
       "      <th>Location</th>\n",
       "      <th>Population</th>\n",
       "      <th>Delta</th>\n",
       "    </tr>\n",
       "  </thead>\n",
       "  <tbody>\n",
       "    <tr>\n",
       "      <th>0</th>\n",
       "      <td>Cape May</td>\n",
       "      <td>96.402</td>\n",
       "      <td>-4</td>\n",
       "    </tr>\n",
       "    <tr>\n",
       "      <th>1</th>\n",
       "      <td>Cape May</td>\n",
       "      <td>96.026</td>\n",
       "      <td>-3</td>\n",
       "    </tr>\n",
       "    <tr>\n",
       "      <th>2</th>\n",
       "      <td>Cape May</td>\n",
       "      <td>97.222</td>\n",
       "      <td>-2</td>\n",
       "    </tr>\n",
       "    <tr>\n",
       "      <th>3</th>\n",
       "      <td>Cape May</td>\n",
       "      <td>96.522</td>\n",
       "      <td>-1</td>\n",
       "    </tr>\n",
       "    <tr>\n",
       "      <th>4</th>\n",
       "      <td>Cape May</td>\n",
       "      <td>96.267</td>\n",
       "      <td>0</td>\n",
       "    </tr>\n",
       "  </tbody>\n",
       "</table>\n",
       "</div>"
      ],
      "text/plain": [
       "   Location  Population  Delta\n",
       "0  Cape May      96.402     -4\n",
       "1  Cape May      96.026     -3\n",
       "2  Cape May      97.222     -2\n",
       "3  Cape May      96.522     -1\n",
       "4  Cape May      96.267      0"
      ]
     },
     "execution_count": 3,
     "metadata": {},
     "output_type": "execute_result"
    }
   ],
   "source": [
    "#merge on Delta with value between -4 and 10\n",
    "\n",
    "pop_merge_df = pd.concat([pop_sandy_df,pop_rita_df, pop_katrina_df,pop_katrina_df,pop_ike_df ])\n",
    "\n",
    "pop_merge_df = pop_merge_df[pop_merge_df['Delta'].between(-4,7)]\n",
    "\n",
    "pop_merge_df.head()\n"
   ]
  },
  {
   "cell_type": "code",
   "execution_count": 8,
   "id": "30027163",
   "metadata": {},
   "outputs": [],
   "source": [
    "pop_merge_df = pop_merge_df.pivot_table( values = 'Population', index=['Delta'], columns = 'Location').reset_index()\n"
   ]
  },
  {
   "cell_type": "code",
   "execution_count": 17,
   "id": "12db39bc",
   "metadata": {},
   "outputs": [
    {
     "data": {
      "text/plain": [
       "<AxesSubplot:xlabel='Delta'>"
      ]
     },
     "execution_count": 17,
     "metadata": {},
     "output_type": "execute_result"
    },
    {
     "data": {
      "image/png": "[encoded data removed]",
      "text/plain": [
       "<Figure size 432x288 with 1 Axes>"
      ]
     },
     "metadata": {
      "needs_background": "light"
     },
     "output_type": "display_data"
    }
   ],
   "source": [
    "pop_merge_df.plot(x = 'Delta')"
   ]
  },
  {
   "cell_type": "code",
   "execution_count": null,
   "id": "f836ca2a",
   "metadata": {},
   "outputs": [],
   "source": []
  }
 ],
 "metadata": {
  "kernelspec": {
   "display_name": "Python 3 (ipykernel)",
   "language": "python",
   "name": "python3"
  },
  "language_info": {
   "codemirror_mode": {
    "name": "ipython",
    "version": 3
   },
   "file_extension": ".py",
   "mimetype": "text/x-python",
   "name": "python",
   "nbconvert_exporter": "python",
   "pygments_lexer": "ipython3",
   "version": "3.9.7"
  }
 },
 "nbformat": 4,
 "nbformat_minor": 5
}
