{
 "cells": [
  {
   "cell_type": "code",
   "execution_count": 1,
   "id": "29c6a805",
   "metadata": {},
   "outputs": [],
   "source": [
    "import matplotlib.pyplot as plt\n",
    "import pandas as pd\n",
    "import numpy as np\n",
    "import requests\n",
    "import csv\n",
    "from scipy.stats import linregress"
   ]
  },
  {
   "cell_type": "code",
   "execution_count": 13,
   "id": "802ab493",
   "metadata": {
    "scrolled": false
   },
   "outputs": [
    {
     "name": "stdout",
     "output_type": "stream",
     "text": [
      "    Unnamed: 0        DATE  Population Hurricane Hurricane Date  \\\n",
      "0            1  2001-01-01    1311.131   Katrina     2005-08-29   \n",
      "1            2  2002-01-01    1311.390   Katrina     2005-08-29   \n",
      "2            3  2003-01-01    1312.039   Katrina     2005-08-29   \n",
      "3            4  2004-01-01    1314.721   Katrina     2005-08-29   \n",
      "4            5  2005-01-01    1313.460   Katrina     2005-08-29   \n",
      "5            6  2006-01-01     987.535   Katrina     2005-08-29   \n",
      "6            7  2007-01-01    1109.415   Katrina     2005-08-29   \n",
      "7            8  2008-01-01    1168.547   Katrina     2005-08-29   \n",
      "8            9  2009-01-01    1189.981   Katrina     2005-08-29   \n",
      "9           10  2010-01-01    1195.368   Katrina     2005-08-29   \n",
      "10          11  2011-01-01    1214.209   Katrina     2005-08-29   \n",
      "11          12  2012-01-01    1227.264   Katrina     2005-08-29   \n",
      "12          13  2013-01-01    1240.094   Katrina     2005-08-29   \n",
      "13          14  2014-01-01    1249.547   Katrina     2005-08-29   \n",
      "14          15  2015-01-01    1261.063   Katrina     2005-08-29   \n",
      "15          16  2016-01-01    1268.633   Katrina     2005-08-29   \n",
      "16          17  2017-01-01    1271.460   Katrina     2005-08-29   \n",
      "17          18  2018-01-01    1271.921   Katrina     2005-08-29   \n",
      "18          19  2019-01-01    1273.979   Katrina     2005-08-29   \n",
      "19          20  2020-01-01    1272.258   Katrina     2005-08-29   \n",
      "\n",
      "                  Location  Delta  \n",
      "0   New Orleans Metro Area     -4  \n",
      "1   New Orleans Metro Area     -3  \n",
      "2   New Orleans Metro Area     -2  \n",
      "3   New Orleans Metro Area     -1  \n",
      "4   New Orleans Metro Area      0  \n",
      "5   New Orleans Metro Area      0  \n",
      "6   New Orleans Metro Area      1  \n",
      "7   New Orleans Metro Area      2  \n",
      "8   New Orleans Metro Area      3  \n",
      "9   New Orleans Metro Area      4  \n",
      "10  New Orleans Metro Area      5  \n",
      "11  New Orleans Metro Area      6  \n",
      "12  New Orleans Metro Area      7  \n",
      "13  New Orleans Metro Area      8  \n",
      "14  New Orleans Metro Area      9  \n",
      "15  New Orleans Metro Area     10  \n",
      "16  New Orleans Metro Area     11  \n",
      "17  New Orleans Metro Area     12  \n",
      "18  New Orleans Metro Area     13  \n",
      "19  New Orleans Metro Area     14  \n"
     ]
    }
   ],
   "source": [
    "# data for population from all hurricanes\n",
    "\n",
    "pop_sandy = \"./CleanEconData/Sandy_cln_population.csv\"\n",
    "pop_sandy_df = pd.read_csv(pop_sandy)\n",
    "pop_sandy_df = pop_sandy_df[['Location','Hurricane','Population','Delta']]\n",
    "\n",
    "pop_rita = \"./CleanEconData/rita_cln_population.csv\"\n",
    "pop_rita_df = pd.read_csv(pop_rita)\n",
    "pop_rita_df = pop_rita_df[['Location','Hurricane','Population','Delta']]\n",
    "\n",
    "\n",
    "pop_katrina = \"./CleanEconData/katrina_cln_population.csv\"\n",
    "pop_katrina_df = pd.read_csv(pop_katrina)\n",
    "# pop_katrina_df = pop_katrina_df[['Location','Hurricane','Population','Delta']]\n",
    "\n",
    "pop_ike = \"./CleanEconData/Ike_cln_population.csv\"\n",
    "pop_ike_df = pd.read_csv(pop_ike)\n",
    "pop_ike_df = pop_ike_df[['Location','Hurricane','Population','Delta']]\n",
    "\n",
    "pop_ivan = \"./CleanEconData/Ivan_cln_population.csv\"\n",
    "pop_ivan_df = pd.read_csv(pop_ivan)\n",
    "pop_ivan_df = pop_ivan_df[['Location','Hurricane','Population','Delta']]\n",
    "\n",
    "print(pop_katrina_df)"
   ]
  },
  {
   "cell_type": "code",
   "execution_count": 9,
   "id": "dc532b4e",
   "metadata": {},
   "outputs": [
    {
     "data": {
      "text/html": [
       "<div>\n",
       "<style scoped>\n",
       "    .dataframe tbody tr th:only-of-type {\n",
       "        vertical-align: middle;\n",
       "    }\n",
       "\n",
       "    .dataframe tbody tr th {\n",
       "        vertical-align: top;\n",
       "    }\n",
       "\n",
       "    .dataframe thead th {\n",
       "        text-align: right;\n",
       "    }\n",
       "</style>\n",
       "<table border=\"1\" class=\"dataframe\">\n",
       "  <thead>\n",
       "    <tr style=\"text-align: right;\">\n",
       "      <th></th>\n",
       "      <th>Location</th>\n",
       "      <th>Hurricane</th>\n",
       "      <th>Population</th>\n",
       "      <th>Delta</th>\n",
       "    </tr>\n",
       "  </thead>\n",
       "  <tbody>\n",
       "    <tr>\n",
       "      <th>0</th>\n",
       "      <td>Cape May</td>\n",
       "      <td>Sandy</td>\n",
       "      <td>96.402</td>\n",
       "      <td>-4</td>\n",
       "    </tr>\n",
       "    <tr>\n",
       "      <th>1</th>\n",
       "      <td>Cape May</td>\n",
       "      <td>Sandy</td>\n",
       "      <td>96.026</td>\n",
       "      <td>-3</td>\n",
       "    </tr>\n",
       "    <tr>\n",
       "      <th>2</th>\n",
       "      <td>Cape May</td>\n",
       "      <td>Sandy</td>\n",
       "      <td>97.222</td>\n",
       "      <td>-2</td>\n",
       "    </tr>\n",
       "    <tr>\n",
       "      <th>3</th>\n",
       "      <td>Cape May</td>\n",
       "      <td>Sandy</td>\n",
       "      <td>96.522</td>\n",
       "      <td>-1</td>\n",
       "    </tr>\n",
       "    <tr>\n",
       "      <th>4</th>\n",
       "      <td>Cape May</td>\n",
       "      <td>Sandy</td>\n",
       "      <td>96.267</td>\n",
       "      <td>0</td>\n",
       "    </tr>\n",
       "  </tbody>\n",
       "</table>\n",
       "</div>"
      ],
      "text/plain": [
       "   Location Hurricane  Population  Delta\n",
       "0  Cape May     Sandy      96.402     -4\n",
       "1  Cape May     Sandy      96.026     -3\n",
       "2  Cape May     Sandy      97.222     -2\n",
       "3  Cape May     Sandy      96.522     -1\n",
       "4  Cape May     Sandy      96.267      0"
      ]
     },
     "execution_count": 9,
     "metadata": {},
     "output_type": "execute_result"
    }
   ],
   "source": [
    "#merge on Delta with value between -4 and 10\n",
    "\n",
    "pop_merge_df = pd.concat([pop_sandy_df,pop_katrina_df,pop_katrina_df,pop_ike_df,pop_ivan_df ])\n",
    "\n",
    "pop_merge_df = pop_merge_df[pop_merge_df['Delta'].between(-4,7)]\n",
    "\n",
    "pop_merge_df.head()\n"
   ]
  },
  {
   "cell_type": "code",
   "execution_count": 10,
   "id": "2a298391",
   "metadata": {},
   "outputs": [],
   "source": [
    "pop_merge_df = pop_merge_df.pivot_table( values = 'Population', index=['Delta'], columns = 'Hurricane').reset_index()\n"
   ]
  },
  {
   "cell_type": "code",
   "execution_count": 11,
   "id": "6aa9184c",
   "metadata": {},
   "outputs": [
    {
     "data": {
      "image/png": "[encoded data removed]",
      "text/plain": [
       "<Figure size 432x288 with 1 Axes>"
      ]
     },
     "metadata": {
      "needs_background": "light"
     },
     "output_type": "display_data"
    }
   ],
   "source": [
    "pop_merge_df.plot(x = 'Delta')\n",
    "plt.title('Population Changes Around Hurricane')\n",
    "plt.xlabel('Years Before and After Hurricanes')\n",
    "plt.ylabel('Population (in thousands)')\n",
    "plt.grid()"
   ]
  },
  {
   "cell_type": "code",
   "execution_count": null,
   "id": "d8fa31bd",
   "metadata": {},
   "outputs": [],
   "source": []
  }
 ],
 "metadata": {
  "kernelspec": {
   "display_name": "Python 3 (ipykernel)",
   "language": "python",
   "name": "python3"
  },
  "language_info": {
   "codemirror_mode": {
    "name": "ipython",
    "version": 3
   },
   "file_extension": ".py",
   "mimetype": "text/x-python",
   "name": "python",
   "nbconvert_exporter": "python",
   "pygments_lexer": "ipython3",
   "version": "3.9.7"
  }
 },
 "nbformat": 4,
 "nbformat_minor": 5
}
