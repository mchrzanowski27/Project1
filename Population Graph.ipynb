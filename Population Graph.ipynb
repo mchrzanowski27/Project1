{
 "cells": [
  {
   "cell_type": "code",
   "execution_count": 1,
   "id": "29c6a805",
   "metadata": {},
   "outputs": [],
   "source": [
    "import matplotlib.pyplot as plt\n",
    "import pandas as pd\n",
    "import numpy as np\n",
    "import requests\n",
    "import csv\n",
    "from scipy.stats import linregress"
   ]
  },
  {
   "cell_type": "code",
   "execution_count": 2,
   "id": "802ab493",
   "metadata": {
    "scrolled": false
   },
   "outputs": [],
   "source": [
    "# data for population from all hurricanes\n",
    "\n",
    "pop_sandy = \"./CleanEconData/Sandy_cln_population.csv\"\n",
    "pop_sandy_df = pd.read_csv(pop_sandy)\n",
    "pop_sandy_df = pop_sandy_df[['Location','Hurricane','Population','Delta']]\n",
    "\n",
    "pop_rita = \"./CleanEconData/rita_cln_population.csv\"\n",
    "pop_rita_df = pd.read_csv(pop_rita)\n",
    "pop_rita_df = pop_rita_df[['Location','Hurricane','Population','Delta']]\n",
    "\n",
    "\n",
    "pop_katrina = \"./CleanEconData/katrina_cln_population.csv\"\n",
    "pop_katrina_df = pd.read_csv(pop_katrina)\n",
    "pop_katrina_df = pop_katrina_df[['Location','Hurricane','Population','Delta']]\n",
    "\n",
    "pop_ike = \"./CleanEconData/Ike_cln_population.csv\"\n",
    "pop_ike_df = pd.read_csv(pop_ike)\n",
    "pop_ike_df = pop_ike_df[['Location','Hurricane','Population','Delta']]\n",
    "\n",
    "pop_ivan = \"./CleanEconData/Ivan_cln_population.csv\"\n",
    "pop_ivan_df = pd.read_csv(pop_ivan)\n",
    "pop_ivan_df = pop_ivan_df[['Location','Hurricane','Population','Delta']]\n",
    "\n",
    "# print(pop_katrina_df)"
   ]
  },
  {
   "cell_type": "code",
   "execution_count": 3,
   "id": "dc532b4e",
   "metadata": {},
   "outputs": [
    {
     "data": {
      "text/html": [
       "<div>\n",
       "<style scoped>\n",
       "    .dataframe tbody tr th:only-of-type {\n",
       "        vertical-align: middle;\n",
       "    }\n",
       "\n",
       "    .dataframe tbody tr th {\n",
       "        vertical-align: top;\n",
       "    }\n",
       "\n",
       "    .dataframe thead th {\n",
       "        text-align: right;\n",
       "    }\n",
       "</style>\n",
       "<table border=\"1\" class=\"dataframe\">\n",
       "  <thead>\n",
       "    <tr style=\"text-align: right;\">\n",
       "      <th></th>\n",
       "      <th>Location</th>\n",
       "      <th>Hurricane</th>\n",
       "      <th>Population</th>\n",
       "      <th>Delta</th>\n",
       "    </tr>\n",
       "  </thead>\n",
       "  <tbody>\n",
       "    <tr>\n",
       "      <th>0</th>\n",
       "      <td>Cape May</td>\n",
       "      <td>Sandy</td>\n",
       "      <td>96.402</td>\n",
       "      <td>-4</td>\n",
       "    </tr>\n",
       "    <tr>\n",
       "      <th>1</th>\n",
       "      <td>Cape May</td>\n",
       "      <td>Sandy</td>\n",
       "      <td>96.026</td>\n",
       "      <td>-3</td>\n",
       "    </tr>\n",
       "    <tr>\n",
       "      <th>2</th>\n",
       "      <td>Cape May</td>\n",
       "      <td>Sandy</td>\n",
       "      <td>97.222</td>\n",
       "      <td>-2</td>\n",
       "    </tr>\n",
       "    <tr>\n",
       "      <th>3</th>\n",
       "      <td>Cape May</td>\n",
       "      <td>Sandy</td>\n",
       "      <td>96.522</td>\n",
       "      <td>-1</td>\n",
       "    </tr>\n",
       "    <tr>\n",
       "      <th>4</th>\n",
       "      <td>Cape May</td>\n",
       "      <td>Sandy</td>\n",
       "      <td>96.267</td>\n",
       "      <td>0</td>\n",
       "    </tr>\n",
       "  </tbody>\n",
       "</table>\n",
       "</div>"
      ],
      "text/plain": [
       "   Location Hurricane  Population  Delta\n",
       "0  Cape May     Sandy      96.402     -4\n",
       "1  Cape May     Sandy      96.026     -3\n",
       "2  Cape May     Sandy      97.222     -2\n",
       "3  Cape May     Sandy      96.522     -1\n",
       "4  Cape May     Sandy      96.267      0"
      ]
     },
     "execution_count": 3,
     "metadata": {},
     "output_type": "execute_result"
    }
   ],
   "source": [
    "#merge on Delta with value between -4 and 10\n",
    "\n",
    "pop_merge_df = pd.concat([pop_sandy_df,pop_katrina_df,pop_ike_df,pop_ivan_df,pop_rita_df ])\n",
    "\n",
    "pop_merge_df = pop_merge_df[pop_merge_df['Delta'].between(-4,7)]\n",
    "\n",
    "\n",
    "pop_merge_df.head()\n"
   ]
  },
  {
   "cell_type": "code",
   "execution_count": 5,
   "id": "2a298391",
   "metadata": {
    "scrolled": true
   },
   "outputs": [],
   "source": [
    "pop_merge_df = pop_merge_df.pivot_table( values = ['Population'], index=['Delta'], columns = 'Hurricane').reset_index()\n"
   ]
  },
  {
   "cell_type": "code",
   "execution_count": 6,
   "id": "6aa9184c",
   "metadata": {},
   "outputs": [
    {
     "data": {
      "image/png": "[encoded data removed]",
      "text/plain": [
       "<Figure size 432x288 with 1 Axes>"
      ]
     },
     "metadata": {
      "needs_background": "light"
     },
     "output_type": "display_data"
    }
   ],
   "source": [
    "pop_merge_df.plot(x = 'Delta')\n",
    "plt.title('Population Changes Around Hurricane')\n",
    "plt.xlabel('Years Before and After Hurricanes')\n",
    "plt.ylabel('Population (in thousands)')\n",
    "plt.legend(loc='center left', bbox_to_anchor=(1.0, 0.5))\n",
    "plt.grid()\n",
    "plt.savefig('./Graphs/PopulationGraph.png')"
   ]
  },
  {
   "cell_type": "code",
   "execution_count": null,
   "id": "d8fa31bd",
   "metadata": {},
   "outputs": [],
   "source": []
  }
 ],
 "metadata": {
  "kernelspec": {
   "display_name": "Python 3 (ipykernel)",
   "language": "python",
   "name": "python3"
  },
  "language_info": {
   "codemirror_mode": {
    "name": "ipython",
    "version": 3
   },
   "file_extension": ".py",
   "mimetype": "text/x-python",
   "name": "python",
   "nbconvert_exporter": "python",
   "pygments_lexer": "ipython3",
   "version": "3.9.7"
  }
 },
 "nbformat": 4,
 "nbformat_minor": 5
}
