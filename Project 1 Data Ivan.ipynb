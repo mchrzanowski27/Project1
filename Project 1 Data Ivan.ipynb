{
 "cells": [
  {
   "cell_type": "code",
   "execution_count": null,
   "id": "f078be3d",
   "metadata": {},
   "outputs": [],
   "source": [
    "import matplotlib.pyplot as plt\n",
    "import pandas as pd\n",
    "import numpy as np\n",
    "import requests\n",
    "import csv\n",
    "from scipy.stats import linregress\n"
   ]
  },
  {
   "cell_type": "code",
   "execution_count": null,
   "id": "fa4a3322",
   "metadata": {
    "scrolled": true
   },
   "outputs": [],
   "source": [
    "#import Econ data from Escambia\n",
    "\n",
    "Ivan_1 = \"./Economic Data/EscambiaCty_Pensacola_housing.csv\"\n",
    "\n",
    "Ivan_housing_df = pd.read_csv(Ivan_1)\n",
    "Ivan_housing_df.head()"
   ]
  },
  {
   "cell_type": "code",
   "execution_count": null,
   "id": "007aae98",
   "metadata": {
    "scrolled": false
   },
   "outputs": [],
   "source": [
    "# remove rows prior to 1990\n",
    "\n",
    "Ivan_housing_df['DATE'] = pd.to_datetime(Ivan_housing_df['DATE'])\n",
    "\n",
    "Ivan_housing_df = Ivan_housing_df[Ivan_housing_df[\"DATE\"] >= '2001-01-01']\n",
    "\n",
    "#Add hurricane, year, location\n",
    "\n",
    "Ivan_housing_df[['Hurricane','Hurricane Date','Location']] = pd.DataFrame([['Ivan','2004-09-04','Pensacola, FL']], index = Ivan_housing_df.index)\n",
    "\n",
    "Ivan_housing_df['Hurricane Date'] = pd.to_datetime(Ivan_housing_df['Hurricane Date'])\n",
    "\n",
    "\n",
    "#We will need to show data from multiple years, so delta from hurricane best option\n",
    "Ivan_housing_df['Delta'] = ((Ivan_housing_df['DATE'] - Ivan_housing_df['Hurricane Date']).dt.days/365)\n",
    "\n",
    "Ivan_housing_df['Delta'] = Ivan_housing_df['Delta'].astype(float)\n",
    "\n",
    "#Rename column \n",
    "Ivan_housing_df = Ivan_housing_df.rename(columns={'Index': 'Housing Price Index'})\n",
    "\n",
    "Ivan_housing_df.head()"
   ]
  },
  {
   "cell_type": "code",
   "execution_count": null,
   "id": "65a308f6",
   "metadata": {},
   "outputs": [],
   "source": [
    "#import Econ data from Escambia\n",
    "\n",
    "Ivan_2 = \"./Economic Data/EscambiaCty_Pensacola_PrivateIndustries.csv\"\n",
    "\n",
    "Ivan_HousingAuthorized_df = pd.read_csv(Ivan_2)\n",
    "Ivan_HousingAuthorized_df.head()"
   ]
  },
  {
   "cell_type": "code",
   "execution_count": null,
   "id": "a9bea881",
   "metadata": {},
   "outputs": [],
   "source": [
    "# remove rows prior to 1990\n",
    "\n",
    "Ivan_HousingAuthorized_df['DATE'] = pd.to_datetime(Ivan_HousingAuthorized_df['DATE'])\n",
    "\n",
    "Ivan_HousingAuthorized_df = Ivan_HousingAuthorized_df[Ivan_HousingAuthorized_df[\"DATE\"] >= '2001-01-01']\n",
    "\n",
    "#Add hurricane, year, location\n",
    "\n",
    "Ivan_HousingAuthorized_df[['Hurricane','Hurricane Date','Location']] = pd.DataFrame([['Ivan','2004-09-04','Pensacola, FL']], index = Ivan_HousingAuthorized_df.index)\n",
    "\n",
    "Ivan_HousingAuthorized_df['Hurricane Date'] = pd.to_datetime(Ivan_HousingAuthorized_df['Hurricane Date'])\n",
    "\n",
    "\n",
    "#We will need to show data from multiple years, so delta from hurricane best option\n",
    "Ivan_HousingAuthorized_df['Delta'] = ((Ivan_HousingAuthorized_df['DATE'] - Ivan_HousingAuthorized_df['Hurricane Date']).dt.days/365)\n",
    "\n",
    "Ivan_HousingAuthorized_df['Delta'] = Ivan_HousingAuthorized_df['Delta'].astype(float)\n",
    "\n",
    "#Rename column \n",
    "Ivan_HousingAuthorized_df = Ivan_HousingAuthorized_df.rename(columns={'Authorizations': 'New Private Housing Structures Authorized'})\n",
    "\n",
    "Ivan_HousingAuthorized_df.head()"
   ]
  },
  {
   "cell_type": "code",
   "execution_count": null,
   "id": "f1bedfc5",
   "metadata": {},
   "outputs": [],
   "source": [
    "#import Econ data from Escambia\n",
    "\n",
    "Ivan_3 = \"./Economic Data/EscambiaCty_Pensacola_RealGDP.csv\"\n",
    "\n",
    "Ivan_real_GDP_df = pd.read_csv(Ivan_3)\n",
    "Ivan_real_GDP_df.head()"
   ]
  },
  {
   "cell_type": "code",
   "execution_count": null,
   "id": "30b7bdcc",
   "metadata": {
    "scrolled": true
   },
   "outputs": [],
   "source": [
    "# remove rows prior to 1990\n",
    "\n",
    "Ivan_real_GDP_df['DATE'] = pd.to_datetime(Ivan_real_GDP_df['DATE'])\n",
    "\n",
    "Ivan_real_GDP_df = Ivan_real_GDP_df[Ivan_real_GDP_df[\"DATE\"] >= '2001-01-01']\n",
    "\n",
    "#Add hurricane, year, location\n",
    "\n",
    "Ivan_real_GDP_df[['Hurricane','Hurricane Date','Location']] = pd.DataFrame([['Ivan','2004-09-04','Pensacola, FL']], index = Ivan_real_GDP_df.index)\n",
    "\n",
    "Ivan_real_GDP_df['Hurricane Date'] = pd.to_datetime(Ivan_real_GDP_df['Hurricane Date'])\n",
    "\n",
    "\n",
    "#We will need to show data from multiple years, so delta from hurricane best option\n",
    "Ivan_real_GDP_df['Delta'] = ((Ivan_real_GDP_df['DATE'] - Ivan_real_GDP_df['Hurricane Date']).dt.days/float)\n",
    "\n",
    "Ivan_real_GDP_df['Delta'] = Ivan_real_GDP_df['Delta'].astype(int)\n",
    "\n",
    "\n",
    "Ivan_real_GDP_df.head()"
   ]
  },
  {
   "cell_type": "code",
   "execution_count": null,
   "id": "1c0975f4",
   "metadata": {
    "scrolled": true
   },
   "outputs": [],
   "source": [
    "#import Econ data from Escambia\n",
    "\n",
    "Ivan_4 = \"./Economic Data/EscambiaCty_Pensacola_unemployment.csv\"\n",
    "\n",
    "Ivan_unemployment_df = pd.read_csv(Ivan_4)\n",
    "Ivan_unemployment_df.head()"
   ]
  },
  {
   "cell_type": "code",
   "execution_count": null,
   "id": "bdb2b502",
   "metadata": {
    "scrolled": true
   },
   "outputs": [],
   "source": [
    "# remove rows prior to 1990\n",
    "\n",
    "Ivan_unemployment_df['DATE'] = pd.to_datetime(Ivan_unemployment_df['DATE'])\n",
    "\n",
    "Ivan_unemployment_df = Ivan_unemployment_df[Ivan_unemployment_df[\"DATE\"] >= '2001-01-01']\n",
    "\n",
    "#Add hurricane, year, location\n",
    "\n",
    "Ivan_unemployment_df[['Hurricane','Hurricane Date','Location']] = pd.DataFrame([['Ivan','2004-09-04','Pensacola, FL']], index = Ivan_unemployment_df.index)\n",
    "\n",
    "Ivan_unemployment_df['Hurricane Date'] = pd.to_datetime(Ivan_unemployment_df['Hurricane Date'])\n",
    "\n",
    "\n",
    "#We will need to show data from multiple years, so delta from hurricane best option\n",
    "Ivan_unemployment_df['Delta'] = ((Ivan_unemployment_df['DATE'] - Ivan_unemployment_df['Hurricane Date']).dt.days/365)\n",
    "\n",
    "Ivan_unemployment_df['Delta'] = Ivan_unemployment_df['Delta'].astype(float)\n",
    "\n",
    "\n",
    "Ivan_unemployment_df.head()"
   ]
  },
  {
   "cell_type": "code",
   "execution_count": null,
   "id": "c79c6885",
   "metadata": {},
   "outputs": [],
   "source": [
    "#import Econ data from Escambia\n",
    "\n",
    "Ivan_5 = \"./Economic Data/EscambiaCty_Pensacola_medianincome.csv\"\n",
    "\n",
    "Ivan_median_df = pd.read_csv(Ivan_5)\n",
    "Ivan_median_df.head()"
   ]
  },
  {
   "cell_type": "code",
   "execution_count": null,
   "id": "de3330d8",
   "metadata": {},
   "outputs": [],
   "source": [
    "# remove rows prior to 1990\n",
    "\n",
    "Ivan_median_df['DATE'] = pd.to_datetime(Ivan_median_df['DATE'])\n",
    "\n",
    "Ivan_median_df = Ivan_median_df[Ivan_median_df[\"DATE\"] >= '2001-01-01']\n",
    "\n",
    "#Add hurricane, year, location\n",
    "\n",
    "Ivan_median_df[['Hurricane','Hurricane Date','Location']] = pd.DataFrame([['Ivan','2004-09-04','Pensacola, FL']], index = Ivan_median_df.index)\n",
    "\n",
    "Ivan_median_df['Hurricane Date'] = pd.to_datetime(Ivan_median_df['Hurricane Date'])\n",
    "\n",
    "\n",
    "#We will need to show data from multiple years, so delta from hurricane best option\n",
    "Ivan_median_df['Delta'] = ((Ivan_median_df['DATE'] - Ivan_median_df['Hurricane Date']).dt.days/365)\n",
    "\n",
    "Ivan_median_df['Delta'] = Ivan_median_df['Delta'].astype(float)\n",
    "\n",
    "\n",
    "Ivan_median_df.head()"
   ]
  },
  {
   "cell_type": "code",
   "execution_count": null,
   "id": "83f902fd",
   "metadata": {},
   "outputs": [],
   "source": [
    "#import Econ data from Escambia\n",
    "\n",
    "Ivan_6 = \"./Economic Data/EscambiaCtyPopulation.csv\"\n",
    "\n",
    "Ivan_population_df = pd.read_csv(Ivan_6)\n",
    "Ivan_population_df.head()"
   ]
  },
  {
   "cell_type": "code",
   "execution_count": null,
   "id": "bba66c02",
   "metadata": {},
   "outputs": [],
   "source": [
    "# remove rows prior to 1990\n",
    "\n",
    "Ivan_population_df['DATE'] = pd.to_datetime(Ivan_population_df['DATE'])\n",
    "\n",
    "Ivan_population_df = Ivan_population_df[Ivan_population_df[\"DATE\"] >= '2001-01-01']\n",
    "\n",
    "#Add hurricane, year, location\n",
    "\n",
    "Ivan_population_df[['Hurricane','Hurricane Date','Location']] = pd.DataFrame([['Ivan','2004-09-04','Pensacola, FL']], index = Ivan_population_df.index)\n",
    "\n",
    "Ivan_population_df['Hurricane Date'] = pd.to_datetime(Ivan_population_df['Hurricane Date'])\n",
    "\n",
    "\n",
    "#We will need to show data from multiple years, so delta from hurricane best option\n",
    "Ivan_population_df['Delta'] = ((Ivan_population_df['Population Year'] - Ivan_population_df['Hurricane Year']))\n",
    "\n",
    "Ivan_population_df['Delta'] = Ivan_population_df['Delta'].astype(int)\n",
    "\n",
    "\n",
    "Ivan_population_df.head()"
   ]
  },
  {
   "cell_type": "code",
   "execution_count": null,
   "id": "3fca64d0",
   "metadata": {},
   "outputs": [],
   "source": [
    "#export to CSV\n",
    "\n",
    "output_data_file = './CleanEconData/Ivan_cln_housing.csv'\n",
    "  \n",
    "Ivan_housing_df.to_csv(output_data_file, sep=',')\n",
    "\n",
    "output_data_file2 = './CleanEconData/Ivan_cln_housingauth.csv'\n",
    "  \n",
    "Ivan_HousingAuthorized_df.to_csv(output_data_file2, sep=',')\n",
    "\n",
    "output_data_file3 = './CleanEconData/Ivan_cln_realGDP.csv'\n",
    "  \n",
    "Ivan_real_GDP_df.to_csv(output_data_file3, sep=',')\n",
    "\n",
    "output_data_file4 = './CleanEconData/Ivan_cln_unemployment.csv'\n",
    "  \n",
    "Ivan_unemployment_df.to_csv(output_data_file4, sep=',')\n",
    "\n",
    "output_data_file5 = './CleanEconData/Ivan_cln_median.csv'\n",
    "  \n",
    "Ivan_median_df.to_csv(output_data_file5, sep=',')\n",
    "\n",
    "output_data_file6 = './CleanEconData/Ivan_cln_population.csv'\n",
    "  \n",
    "Ivan_population_df.to_csv(output_data_file6, sep=',')"
   ]
  },
  {
   "cell_type": "code",
   "execution_count": null,
   "id": "7493c239",
   "metadata": {},
   "outputs": [],
   "source": []
  }
 ],
 "metadata": {
  "kernelspec": {
   "display_name": "Python 3 (ipykernel)",
   "language": "python",
   "name": "python3"
  },
  "language_info": {
   "codemirror_mode": {
    "name": "ipython",
    "version": 3
   },
   "file_extension": ".py",
   "mimetype": "text/x-python",
   "name": "python",
   "nbconvert_exporter": "python",
   "pygments_lexer": "ipython3",
   "version": "3.9.7"
  }
 },
 "nbformat": 4,
 "nbformat_minor": 5
}
