{
 "cells": [
  {
   "cell_type": "code",
   "execution_count": 1,
   "id": "29c6a805",
   "metadata": {},
   "outputs": [],
   "source": [
    "import matplotlib.pyplot as plt\n",
    "import pandas as pd\n",
    "import numpy as np\n",
    "import requests\n",
    "import csv\n",
    "from scipy.stats import linregress"
   ]
  },
  {
   "cell_type": "code",
   "execution_count": 2,
   "id": "802ab493",
   "metadata": {
    "scrolled": false
   },
   "outputs": [],
   "source": [
    "# data for medianulation from all hurricanes\n",
    "\n",
    "median_sandy = \"./CleanEconData/Sandy_cln_median.csv\"\n",
    "median_sandy_df = pd.read_csv(median_sandy)\n",
    "median_sandy_df = median_sandy_df[['Location','Hurricane','Median','Delta']]\n",
    "\n",
    "median_rita = \"./CleanEconData/rita_cln_median.csv\"\n",
    "median_rita_df = pd.read_csv(median_rita)\n",
    "median_rita_df = median_rita_df[['Location','Hurricane','Median','Delta']]\n",
    "\n",
    "median_katrina = \"./CleanEconData/katrina_cln_median.csv\"\n",
    "median_katrina_df = pd.read_csv(median_katrina)\n",
    "median_katrina_df = median_katrina_df[['Location','Hurricane','Median','Delta']]\n",
    "\n",
    "median_ike = \"./CleanEconData/Ike_cln_median.csv\"\n",
    "median_ike_df = pd.read_csv(median_ike)\n",
    "median_ike_df = median_ike_df[['Location','Hurricane','Median','Delta']]\n",
    "\n",
    "median_ivan = \"./CleanEconData/Ivan_cln_median.csv\"\n",
    "median_ivan_df = pd.read_csv(median_ivan)\n",
    "median_ivan_df = median_ivan_df[['Location','Hurricane','Median','Delta']]\n",
    "\n",
    "# print(median_katrina_df)"
   ]
  },
  {
   "cell_type": "code",
   "execution_count": 3,
   "id": "dc532b4e",
   "metadata": {},
   "outputs": [
    {
     "data": {
      "text/html": [
       "<div>\n",
       "<style scoped>\n",
       "    .dataframe tbody tr th:only-of-type {\n",
       "        vertical-align: middle;\n",
       "    }\n",
       "\n",
       "    .dataframe tbody tr th {\n",
       "        vertical-align: top;\n",
       "    }\n",
       "\n",
       "    .dataframe thead th {\n",
       "        text-align: right;\n",
       "    }\n",
       "</style>\n",
       "<table border=\"1\" class=\"dataframe\">\n",
       "  <thead>\n",
       "    <tr style=\"text-align: right;\">\n",
       "      <th></th>\n",
       "      <th>Location</th>\n",
       "      <th>Hurricane</th>\n",
       "      <th>Median</th>\n",
       "      <th>Delta</th>\n",
       "    </tr>\n",
       "  </thead>\n",
       "  <tbody>\n",
       "    <tr>\n",
       "      <th>0</th>\n",
       "      <td>Cape May</td>\n",
       "      <td>Sandy</td>\n",
       "      <td>54423</td>\n",
       "      <td>-4</td>\n",
       "    </tr>\n",
       "    <tr>\n",
       "      <th>1</th>\n",
       "      <td>Cape May</td>\n",
       "      <td>Sandy</td>\n",
       "      <td>49797</td>\n",
       "      <td>-3</td>\n",
       "    </tr>\n",
       "    <tr>\n",
       "      <th>2</th>\n",
       "      <td>Cape May</td>\n",
       "      <td>Sandy</td>\n",
       "      <td>51585</td>\n",
       "      <td>-2</td>\n",
       "    </tr>\n",
       "    <tr>\n",
       "      <th>3</th>\n",
       "      <td>Cape May</td>\n",
       "      <td>Sandy</td>\n",
       "      <td>52312</td>\n",
       "      <td>-1</td>\n",
       "    </tr>\n",
       "    <tr>\n",
       "      <th>4</th>\n",
       "      <td>Cape May</td>\n",
       "      <td>Sandy</td>\n",
       "      <td>55175</td>\n",
       "      <td>0</td>\n",
       "    </tr>\n",
       "  </tbody>\n",
       "</table>\n",
       "</div>"
      ],
      "text/plain": [
       "   Location Hurricane  Median  Delta\n",
       "0  Cape May     Sandy   54423     -4\n",
       "1  Cape May     Sandy   49797     -3\n",
       "2  Cape May     Sandy   51585     -2\n",
       "3  Cape May     Sandy   52312     -1\n",
       "4  Cape May     Sandy   55175      0"
      ]
     },
     "execution_count": 3,
     "metadata": {},
     "output_type": "execute_result"
    }
   ],
   "source": [
    "#merge on Delta with value between -4 and 10\n",
    "\n",
    "median_merge_df = pd.concat([median_sandy_df,median_katrina_df,median_ike_df,median_ivan_df,median_rita_df ])\n",
    "\n",
    "median_merge_df = median_merge_df[median_merge_df['Delta'].between(-4,7)]\n",
    "\n",
    "\n",
    "median_merge_df.head()\n"
   ]
  },
  {
   "cell_type": "code",
   "execution_count": 4,
   "id": "2a298391",
   "metadata": {
    "scrolled": true
   },
   "outputs": [
    {
     "data": {
      "text/html": [
       "<div>\n",
       "<style scoped>\n",
       "    .dataframe tbody tr th:only-of-type {\n",
       "        vertical-align: middle;\n",
       "    }\n",
       "\n",
       "    .dataframe tbody tr th {\n",
       "        vertical-align: top;\n",
       "    }\n",
       "\n",
       "    .dataframe thead tr th {\n",
       "        text-align: left;\n",
       "    }\n",
       "</style>\n",
       "<table border=\"1\" class=\"dataframe\">\n",
       "  <thead>\n",
       "    <tr>\n",
       "      <th></th>\n",
       "      <th>Delta</th>\n",
       "      <th colspan=\"5\" halign=\"left\">Median</th>\n",
       "    </tr>\n",
       "    <tr>\n",
       "      <th>Hurricane</th>\n",
       "      <th></th>\n",
       "      <th>Ike</th>\n",
       "      <th>Ivan</th>\n",
       "      <th>Katrina</th>\n",
       "      <th>Rita</th>\n",
       "      <th>Sandy</th>\n",
       "    </tr>\n",
       "  </thead>\n",
       "  <tbody>\n",
       "    <tr>\n",
       "      <th>0</th>\n",
       "      <td>-4</td>\n",
       "      <td>41922.0</td>\n",
       "      <td>NaN</td>\n",
       "      <td>26844.0</td>\n",
       "      <td>43279.0</td>\n",
       "      <td>54423.0</td>\n",
       "    </tr>\n",
       "    <tr>\n",
       "      <th>1</th>\n",
       "      <td>-3</td>\n",
       "      <td>44085.0</td>\n",
       "      <td>34160.0</td>\n",
       "      <td>26711.0</td>\n",
       "      <td>42704.0</td>\n",
       "      <td>49797.0</td>\n",
       "    </tr>\n",
       "    <tr>\n",
       "      <th>2</th>\n",
       "      <td>-2</td>\n",
       "      <td>47159.0</td>\n",
       "      <td>34528.0</td>\n",
       "      <td>27478.0</td>\n",
       "      <td>42262.0</td>\n",
       "      <td>51585.0</td>\n",
       "    </tr>\n",
       "    <tr>\n",
       "      <th>3</th>\n",
       "      <td>-1</td>\n",
       "      <td>49977.0</td>\n",
       "      <td>35347.0</td>\n",
       "      <td>27355.0</td>\n",
       "      <td>41922.0</td>\n",
       "      <td>52312.0</td>\n",
       "    </tr>\n",
       "    <tr>\n",
       "      <th>4</th>\n",
       "      <td>0</td>\n",
       "      <td>51484.0</td>\n",
       "      <td>38286.5</td>\n",
       "      <td>30216.0</td>\n",
       "      <td>45622.0</td>\n",
       "      <td>55847.5</td>\n",
       "    </tr>\n",
       "  </tbody>\n",
       "</table>\n",
       "</div>"
      ],
      "text/plain": [
       "          Delta   Median                                    \n",
       "Hurricane            Ike     Ivan  Katrina     Rita    Sandy\n",
       "0            -4  41922.0      NaN  26844.0  43279.0  54423.0\n",
       "1            -3  44085.0  34160.0  26711.0  42704.0  49797.0\n",
       "2            -2  47159.0  34528.0  27478.0  42262.0  51585.0\n",
       "3            -1  49977.0  35347.0  27355.0  41922.0  52312.0\n",
       "4             0  51484.0  38286.5  30216.0  45622.0  55847.5"
      ]
     },
     "execution_count": 4,
     "metadata": {},
     "output_type": "execute_result"
    }
   ],
   "source": [
    "median_merge_df = median_merge_df.pivot_table( values = ['Median'], index=['Delta'], columns = 'Hurricane').reset_index()\n",
    "median_merge_df.head()"
   ]
  },
  {
   "cell_type": "code",
   "execution_count": 5,
   "id": "6aa9184c",
   "metadata": {},
   "outputs": [
    {
     "data": {
      "image/png": "[encoded data removed]",
      "text/plain": [
       "<Figure size 432x288 with 1 Axes>"
      ]
     },
     "metadata": {
      "needs_background": "light"
     },
     "output_type": "display_data"
    }
   ],
   "source": [
    "median_merge_df.plot(x = 'Delta')\n",
    "plt.title('Median Income Changes Around Hurricane')\n",
    "plt.xlabel('Years Before and After Hurricanes')\n",
    "plt.ylabel('Median Income')\n",
    "plt.legend(loc='center left', bbox_to_anchor=(1.0, 0.5))\n",
    "plt.grid()\n",
    "plt.savefig('./Graphs/MedianIncomeGraph.png')"
   ]
  },
  {
   "cell_type": "code",
   "execution_count": null,
   "id": "d8fa31bd",
   "metadata": {},
   "outputs": [],
   "source": []
  }
 ],
 "metadata": {
  "kernelspec": {
   "display_name": "Python 3 (ipykernel)",
   "language": "python",
   "name": "python3"
  },
  "language_info": {
   "codemirror_mode": {
    "name": "ipython",
    "version": 3
   },
   "file_extension": ".py",
   "mimetype": "text/x-python",
   "name": "python",
   "nbconvert_exporter": "python",
   "pygments_lexer": "ipython3",
   "version": "3.9.7"
  }
 },
 "nbformat": 4,
 "nbformat_minor": 5
}
