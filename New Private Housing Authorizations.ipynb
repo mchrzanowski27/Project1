{
 "cells": [
  {
   "cell_type": "code",
   "execution_count": null,
   "id": "29c6a805",
   "metadata": {},
   "outputs": [],
   "source": [
    "import matplotlib.pyplot as plt\n",
    "import pandas as pd\n",
    "import numpy as np\n",
    "import requests\n",
    "import csv\n",
    "from scipy.stats import linregress"
   ]
  },
  {
   "cell_type": "code",
   "execution_count": null,
   "id": "802ab493",
   "metadata": {
    "scrolled": false
   },
   "outputs": [],
   "source": [
    "# data for authorizations from all hurricanes\n",
    "\n",
    "auth_sandy = \"./CleanEconData/Sandy_cln_housingauth.csv\"\n",
    "auth_sandy_df = pd.read_csv(auth_sandy)\n",
    "auth_sandy_df = auth_sandy_df[['Location','Hurricane','New Private Housing Structures Authorized','Delta','Housing Auth Month']]\n",
    "\n",
    "auth_rita = \"./CleanEconData/rita_cln_housingauth.csv\"\n",
    "auth_rita_df = pd.read_csv(auth_rita)\n",
    "auth_rita_df = auth_rita_df[['Location','Hurricane','New Private Housing Structures Authorized','Delta','Housing Auth Month']]\n",
    "\n",
    "auth_katrina = \"./CleanEconData/katrina_cln_housingauth.csv\"\n",
    "auth_katrina_df = pd.read_csv(auth_katrina)\n",
    "auth_katrina_df = auth_katrina_df[['Location','Hurricane','New Private Housing Structures Authorized','Delta','Housing Auth Month']]\n",
    "\n",
    "auth_ike = \"./CleanEconData/Ike_cln_housingauth.csv\"\n",
    "auth_ike_df = pd.read_csv(auth_ike)\n",
    "auth_ike_df = auth_ike_df[['Location','Hurricane','New Private Housing Structures Authorized','Delta','Housing Auth Month']]\n",
    "\n",
    "auth_ivan = \"./CleanEconData/Ivan_cln_housingauth.csv\"\n",
    "auth_ivan_df = pd.read_csv(auth_ivan)\n",
    "auth_ivan_df = auth_ivan_df[['Location','Hurricane','New Private Housing Structures Authorized','Delta','Housing Auth Month']]\n",
    "\n",
    "print(auth_rita_df)"
   ]
  },
  {
   "cell_type": "code",
   "execution_count": null,
   "id": "dc532b4e",
   "metadata": {},
   "outputs": [],
   "source": [
    "#merge on Delta with value between -4 and 10\n",
    "\n",
    "auth_merge_df = pd.concat([auth_sandy_df,auth_katrina_df,auth_ike_df,auth_ivan_df,auth_rita_df ])\n",
    "\n",
    "auth_merge_df = auth_merge_df[auth_merge_df['Delta'].between(-4,7)]\n",
    "\n",
    "auth_merge_df.reset_index(level=0, inplace=True)\n",
    "\n",
    "auth_merge_df['Delta'] = (auth_merge_df['Delta'].astype(str) + \".\" + auth_merge_df['Housing Auth Month'].astype(str))\n",
    "\n",
    "auth_merge_df['Delta'] = auth_merge_df['Delta'].astype(float)\n",
    "\n",
    "auth_merge_df.head()\n",
    "# print(auth_merge_df)\n",
    "# print(auth_merge_df.columns.tolist())"
   ]
  },
  {
   "cell_type": "code",
   "execution_count": null,
   "id": "2a298391",
   "metadata": {
    "scrolled": true
   },
   "outputs": [],
   "source": [
    "auth_merge_df=auth_merge_df.pivot_table( values =['New Private Housing Structures Authorized'], index=['Delta'], columns=['Hurricane']).reset_index()\n",
    "auth_merge_df = auth_merge_df[auth_merge_df['Ike','Ivan','Katrina','Rita','Sandy'].notna()]\n",
    "# auth_merge_df.head()\n"
   ]
  },
  {
   "cell_type": "code",
   "execution_count": null,
   "id": "6aa9184c",
   "metadata": {
    "scrolled": false
   },
   "outputs": [],
   "source": [
    "auth_merge_df.plot(x = 'Delta')\n",
    "plt.title('New Private Housing Structures Authorized Before and After Hurricane')\n",
    "plt.xlabel('Years Before and After Hurricanes')\n",
    "plt.ylabel('Housing Authorized')\n",
    "plt.legend(loc='center left', bbox_to_anchor=(1.0, 0.5))\n",
    "plt.grid()\n",
    "plt.savefig('./Graphs/HousingAuthGraph.png')\n"
   ]
  },
  {
   "cell_type": "code",
   "execution_count": null,
   "id": "d8fa31bd",
   "metadata": {},
   "outputs": [],
   "source": []
  }
 ],
 "metadata": {
  "kernelspec": {
   "display_name": "Python 3 (ipykernel)",
   "language": "python",
   "name": "python3"
  },
  "language_info": {
   "codemirror_mode": {
    "name": "ipython",
    "version": 3
   },
   "file_extension": ".py",
   "mimetype": "text/x-python",
   "name": "python",
   "nbconvert_exporter": "python",
   "pygments_lexer": "ipython3",
   "version": "3.9.7"
  }
 },
 "nbformat": 4,
 "nbformat_minor": 5
}
