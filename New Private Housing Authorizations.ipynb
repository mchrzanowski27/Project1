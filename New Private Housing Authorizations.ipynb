{
 "cells": [
  {
   "cell_type": "code",
   "execution_count": 1,
   "id": "29c6a805",
   "metadata": {},
   "outputs": [],
   "source": [
    "import matplotlib.pyplot as plt\n",
    "import pandas as pd\n",
    "import numpy as np\n",
    "import requests\n",
    "import csv\n",
    "from scipy.stats import linregress"
   ]
  },
  {
   "cell_type": "code",
   "execution_count": 2,
   "id": "802ab493",
   "metadata": {
    "scrolled": false
   },
   "outputs": [
    {
     "name": "stdout",
     "output_type": "stream",
     "text": [
      "                   Location Hurricane  \\\n",
      "0    New Orleans Metro Area   Katrina   \n",
      "1    New Orleans Metro Area   Katrina   \n",
      "2    New Orleans Metro Area   Katrina   \n",
      "3    New Orleans Metro Area   Katrina   \n",
      "4    New Orleans Metro Area   Katrina   \n",
      "..                      ...       ...   \n",
      "247  New Orleans Metro Area   Katrina   \n",
      "248  New Orleans Metro Area   Katrina   \n",
      "249  New Orleans Metro Area   Katrina   \n",
      "250  New Orleans Metro Area   Katrina   \n",
      "251  New Orleans Metro Area   Katrina   \n",
      "\n",
      "     New Private Housing Structures Authorized      Delta  \n",
      "0                                        504.0  -4.660274  \n",
      "1                                        246.0  -4.575342  \n",
      "2                                        269.0  -4.498630  \n",
      "3                                        279.0  -4.413699  \n",
      "4                                        296.0  -4.331507  \n",
      "..                                         ...        ...  \n",
      "247                                      365.0  15.934247  \n",
      "248                                      362.0  16.019178  \n",
      "249                                      332.0  16.101370  \n",
      "250                                      326.0  16.186301  \n",
      "251                                      321.0  16.268493  \n",
      "\n",
      "[252 rows x 4 columns]\n"
     ]
    }
   ],
   "source": [
    "# data for authorizations from all hurricanes\n",
    "\n",
    "auth_sandy = \"./CleanEconData/Sandy_cln_housingauth.csv\"\n",
    "auth_sandy_df = pd.read_csv(auth_sandy)\n",
    "auth_sandy_df = auth_sandy_df[['Location','Hurricane','New Private Housing Structures Authorized','Delta']]\n",
    "\n",
    "auth_rita = \"./CleanEconData/rita_cln_housingauth.csv\"\n",
    "auth_rita_df = pd.read_csv(auth_rita)\n",
    "auth_rita_df = auth_rita_df[['Location','Hurricane','New Private Housing Structures Authorized','Delta']]\n",
    "\n",
    "auth_katrina = \"./CleanEconData/katrina_cln_housingauth.csv\"\n",
    "auth_katrina_df = pd.read_csv(auth_katrina)\n",
    "auth_katrina_df = auth_katrina_df[['Location','Hurricane','New Private Housing Structures Authorized','Delta']]\n",
    "\n",
    "auth_ike = \"./CleanEconData/Ike_cln_housingauth.csv\"\n",
    "auth_ike_df = pd.read_csv(auth_ike)\n",
    "auth_ike_df = auth_ike_df[['Location','Hurricane','New Private Housing Structures Authorized','Delta']]\n",
    "\n",
    "auth_ivan = \"./CleanEconData/Ivan_cln_housingauth.csv\"\n",
    "auth_ivan_df = pd.read_csv(auth_ivan)\n",
    "auth_ivan_df = auth_ivan_df[['Location','Hurricane','New Private Housing Structures Authorized','Delta']]\n",
    "\n",
    "print(auth_katrina_df)"
   ]
  },
  {
   "cell_type": "code",
   "execution_count": 3,
   "id": "dc532b4e",
   "metadata": {},
   "outputs": [
    {
     "name": "stdout",
     "output_type": "stream",
     "text": [
      "['index', 'Location', 'Hurricane', 'New Private Housing Structures Authorized', 'Delta']\n"
     ]
    }
   ],
   "source": [
    "#merge on Delta with value between -4 and 10\n",
    "\n",
    "auth_merge_df = pd.concat([auth_sandy_df,auth_katrina_df,auth_ike_df,auth_ivan_df,auth_rita_df ])\n",
    "\n",
    "auth_merge_df = auth_merge_df[auth_merge_df['Delta'].between(-4,7)]\n",
    "\n",
    "auth_merge_df.reset_index(level=0, inplace=True)\n",
    "\n",
    "\n",
    "# auth_merge_df.head()\n",
    "# print(auth_merge_df)\n",
    "print(auth_merge_df.columns.tolist())"
   ]
  },
  {
   "cell_type": "code",
   "execution_count": 6,
   "id": "2a298391",
   "metadata": {
    "scrolled": true
   },
   "outputs": [
    {
     "data": {
      "text/html": [
       "<div>\n",
       "<style scoped>\n",
       "    .dataframe tbody tr th:only-of-type {\n",
       "        vertical-align: middle;\n",
       "    }\n",
       "\n",
       "    .dataframe tbody tr th {\n",
       "        vertical-align: top;\n",
       "    }\n",
       "\n",
       "    .dataframe thead tr th {\n",
       "        text-align: left;\n",
       "    }\n",
       "</style>\n",
       "<table border=\"1\" class=\"dataframe\">\n",
       "  <thead>\n",
       "    <tr>\n",
       "      <th></th>\n",
       "      <th>Delta</th>\n",
       "      <th colspan=\"5\" halign=\"left\">New Private Housing Structures Authorized</th>\n",
       "    </tr>\n",
       "    <tr>\n",
       "      <th>Hurricane</th>\n",
       "      <th></th>\n",
       "      <th>Ike</th>\n",
       "      <th>Ivan</th>\n",
       "      <th>Katrina</th>\n",
       "      <th>Rita</th>\n",
       "      <th>Sandy</th>\n",
       "    </tr>\n",
       "  </thead>\n",
       "  <tbody>\n",
       "    <tr>\n",
       "      <th>0</th>\n",
       "      <td>-3.994521</td>\n",
       "      <td>NaN</td>\n",
       "      <td>NaN</td>\n",
       "      <td>292.0</td>\n",
       "      <td>NaN</td>\n",
       "      <td>NaN</td>\n",
       "    </tr>\n",
       "    <tr>\n",
       "      <th>1</th>\n",
       "      <td>-3.912329</td>\n",
       "      <td>NaN</td>\n",
       "      <td>NaN</td>\n",
       "      <td>482.0</td>\n",
       "      <td>NaN</td>\n",
       "      <td>NaN</td>\n",
       "    </tr>\n",
       "    <tr>\n",
       "      <th>2</th>\n",
       "      <td>-3.827397</td>\n",
       "      <td>NaN</td>\n",
       "      <td>NaN</td>\n",
       "      <td>237.0</td>\n",
       "      <td>NaN</td>\n",
       "      <td>NaN</td>\n",
       "    </tr>\n",
       "    <tr>\n",
       "      <th>3</th>\n",
       "      <td>-3.808219</td>\n",
       "      <td>NaN</td>\n",
       "      <td>NaN</td>\n",
       "      <td>NaN</td>\n",
       "      <td>NaN</td>\n",
       "      <td>428.0</td>\n",
       "    </tr>\n",
       "    <tr>\n",
       "      <th>4</th>\n",
       "      <td>-3.745205</td>\n",
       "      <td>NaN</td>\n",
       "      <td>NaN</td>\n",
       "      <td>269.0</td>\n",
       "      <td>NaN</td>\n",
       "      <td>NaN</td>\n",
       "    </tr>\n",
       "    <tr>\n",
       "      <th>...</th>\n",
       "      <td>...</td>\n",
       "      <td>...</td>\n",
       "      <td>...</td>\n",
       "      <td>...</td>\n",
       "      <td>...</td>\n",
       "      <td>...</td>\n",
       "    </tr>\n",
       "    <tr>\n",
       "      <th>203</th>\n",
       "      <td>6.676712</td>\n",
       "      <td>NaN</td>\n",
       "      <td>NaN</td>\n",
       "      <td>194.0</td>\n",
       "      <td>NaN</td>\n",
       "      <td>NaN</td>\n",
       "    </tr>\n",
       "    <tr>\n",
       "      <th>204</th>\n",
       "      <td>6.761644</td>\n",
       "      <td>NaN</td>\n",
       "      <td>NaN</td>\n",
       "      <td>184.0</td>\n",
       "      <td>NaN</td>\n",
       "      <td>NaN</td>\n",
       "    </tr>\n",
       "    <tr>\n",
       "      <th>205</th>\n",
       "      <td>6.824658</td>\n",
       "      <td>NaN</td>\n",
       "      <td>7625.0</td>\n",
       "      <td>NaN</td>\n",
       "      <td>NaN</td>\n",
       "      <td>NaN</td>\n",
       "    </tr>\n",
       "    <tr>\n",
       "      <th>206</th>\n",
       "      <td>6.843836</td>\n",
       "      <td>NaN</td>\n",
       "      <td>NaN</td>\n",
       "      <td>193.0</td>\n",
       "      <td>NaN</td>\n",
       "      <td>NaN</td>\n",
       "    </tr>\n",
       "    <tr>\n",
       "      <th>207</th>\n",
       "      <td>6.928767</td>\n",
       "      <td>NaN</td>\n",
       "      <td>NaN</td>\n",
       "      <td>265.0</td>\n",
       "      <td>NaN</td>\n",
       "      <td>NaN</td>\n",
       "    </tr>\n",
       "  </tbody>\n",
       "</table>\n",
       "<p>208 rows × 6 columns</p>\n",
       "</div>"
      ],
      "text/plain": [
       "              Delta New Private Housing Structures Authorized                  \\\n",
       "Hurricane                                                 Ike    Ivan Katrina   \n",
       "0         -3.994521                                       NaN     NaN   292.0   \n",
       "1         -3.912329                                       NaN     NaN   482.0   \n",
       "2         -3.827397                                       NaN     NaN   237.0   \n",
       "3         -3.808219                                       NaN     NaN     NaN   \n",
       "4         -3.745205                                       NaN     NaN   269.0   \n",
       "..              ...                                       ...     ...     ...   \n",
       "203        6.676712                                       NaN     NaN   194.0   \n",
       "204        6.761644                                       NaN     NaN   184.0   \n",
       "205        6.824658                                       NaN  7625.0     NaN   \n",
       "206        6.843836                                       NaN     NaN   193.0   \n",
       "207        6.928767                                       NaN     NaN   265.0   \n",
       "\n",
       "                       \n",
       "Hurricane Rita  Sandy  \n",
       "0          NaN    NaN  \n",
       "1          NaN    NaN  \n",
       "2          NaN    NaN  \n",
       "3          NaN  428.0  \n",
       "4          NaN    NaN  \n",
       "..         ...    ...  \n",
       "203        NaN    NaN  \n",
       "204        NaN    NaN  \n",
       "205        NaN    NaN  \n",
       "206        NaN    NaN  \n",
       "207        NaN    NaN  \n",
       "\n",
       "[208 rows x 6 columns]"
      ]
     },
     "execution_count": 6,
     "metadata": {},
     "output_type": "execute_result"
    }
   ],
   "source": [
    "auth_merge_df.pivot_table( values =['New Private Housing Structures Authorized'], index=['Delta'], columns = 'Hurricane').reset_index()\n"
   ]
  },
  {
   "cell_type": "code",
   "execution_count": 5,
   "id": "6aa9184c",
   "metadata": {
    "scrolled": true
   },
   "outputs": [
    {
     "data": {
      "image/png": "[encoded data removed]",
      "text/plain": [
       "<Figure size 432x288 with 1 Axes>"
      ]
     },
     "metadata": {
      "needs_background": "light"
     },
     "output_type": "display_data"
    }
   ],
   "source": [
    "auth_merge_df.plot(x = 'Delta')\n",
    "plt.title('New Private Housing Structures Authorized Before and After Hurricane')\n",
    "plt.xlabel('Years Before and After Hurricanes')\n",
    "plt.ylabel('Housing Authorized')\n",
    "plt.legend(loc='center left', bbox_to_anchor=(1.0, 0.5))\n",
    "plt.grid()\n",
    "plt.savefig('./Graphs/HousingAuthGraph.png')"
   ]
  },
  {
   "cell_type": "code",
   "execution_count": null,
   "id": "d8fa31bd",
   "metadata": {},
   "outputs": [],
   "source": []
  }
 ],
 "metadata": {
  "kernelspec": {
   "display_name": "Python 3 (ipykernel)",
   "language": "python",
   "name": "python3"
  },
  "language_info": {
   "codemirror_mode": {
    "name": "ipython",
    "version": 3
   },
   "file_extension": ".py",
   "mimetype": "text/x-python",
   "name": "python",
   "nbconvert_exporter": "python",
   "pygments_lexer": "ipython3",
   "version": "3.9.7"
  }
 },
 "nbformat": 4,
 "nbformat_minor": 5
}
