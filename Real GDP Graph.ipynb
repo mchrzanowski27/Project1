{
 "cells": [
  {
   "cell_type": "code",
   "execution_count": 1,
   "id": "29c6a805",
   "metadata": {},
   "outputs": [],
   "source": [
    "import matplotlib.pyplot as plt\n",
    "import pandas as pd\n",
    "import numpy as np\n",
    "import requests\n",
    "import csv\n",
    "from scipy.stats import linregress"
   ]
  },
  {
   "cell_type": "code",
   "execution_count": 4,
   "id": "802ab493",
   "metadata": {
    "scrolled": false
   },
   "outputs": [],
   "source": [
    "# data for GDPulation from all hurricanes\n",
    "\n",
    "GDP_sandy = \"./CleanEconData/Sandy_cln_realGDP.csv\"\n",
    "GDP_sandy_df = pd.read_csv(GDP_sandy)\n",
    "GDP_sandy_df = GDP_sandy_df[['Location','Hurricane','Real GDP','Delta']]\n",
    "\n",
    "GDP_rita = \"./CleanEconData/rita_cln_realGDP.csv\"\n",
    "GDP_rita_df = pd.read_csv(GDP_rita)\n",
    "GDP_rita_df = GDP_rita_df[['Location','Hurricane','Real GDP','Delta']]\n",
    "\n",
    "\n",
    "GDP_katrina = \"./CleanEconData/katrina_cln_realGDP.csv\"\n",
    "GDP_katrina_df = pd.read_csv(GDP_katrina)\n",
    "GDP_katrina_df = GDP_katrina_df[['Location','Hurricane','Real GDP','Delta']]\n",
    "\n",
    "GDP_ike = \"./CleanEconData/Ike_cln_realGDP.csv\"\n",
    "GDP_ike_df = pd.read_csv(GDP_ike)\n",
    "GDP_ike_df = GDP_ike_df[['Location','Hurricane','Real GDP','Delta']]\n",
    "\n",
    "GDP_ivan = \"./CleanEconData/Ivan_cln_realGDP.csv\"\n",
    "GDP_ivan_df = pd.read_csv(GDP_ivan)\n",
    "GDP_ivan_df = GDP_ivan_df[['Location','Hurricane','Real GDP','Delta']]\n",
    "\n",
    "# print(GDP_katrina_df)"
   ]
  },
  {
   "cell_type": "code",
   "execution_count": 5,
   "id": "dc532b4e",
   "metadata": {},
   "outputs": [
    {
     "data": {
      "text/html": [
       "<div>\n",
       "<style scoped>\n",
       "    .dataframe tbody tr th:only-of-type {\n",
       "        vertical-align: middle;\n",
       "    }\n",
       "\n",
       "    .dataframe tbody tr th {\n",
       "        vertical-align: top;\n",
       "    }\n",
       "\n",
       "    .dataframe thead th {\n",
       "        text-align: right;\n",
       "    }\n",
       "</style>\n",
       "<table border=\"1\" class=\"dataframe\">\n",
       "  <thead>\n",
       "    <tr style=\"text-align: right;\">\n",
       "      <th></th>\n",
       "      <th>Location</th>\n",
       "      <th>Hurricane</th>\n",
       "      <th>Real GDP</th>\n",
       "      <th>Delta</th>\n",
       "    </tr>\n",
       "  </thead>\n",
       "  <tbody>\n",
       "    <tr>\n",
       "      <th>0</th>\n",
       "      <td>Cape May, NJ</td>\n",
       "      <td>Sandy</td>\n",
       "      <td>5023422.0</td>\n",
       "      <td>-4</td>\n",
       "    </tr>\n",
       "    <tr>\n",
       "      <th>1</th>\n",
       "      <td>Cape May, NJ</td>\n",
       "      <td>Sandy</td>\n",
       "      <td>4535803.0</td>\n",
       "      <td>-3</td>\n",
       "    </tr>\n",
       "    <tr>\n",
       "      <th>2</th>\n",
       "      <td>Cape May, NJ</td>\n",
       "      <td>Sandy</td>\n",
       "      <td>4933737.0</td>\n",
       "      <td>-2</td>\n",
       "    </tr>\n",
       "    <tr>\n",
       "      <th>3</th>\n",
       "      <td>Cape May, NJ</td>\n",
       "      <td>Sandy</td>\n",
       "      <td>4843644.0</td>\n",
       "      <td>-1</td>\n",
       "    </tr>\n",
       "    <tr>\n",
       "      <th>4</th>\n",
       "      <td>Cape May, NJ</td>\n",
       "      <td>Sandy</td>\n",
       "      <td>4674175.0</td>\n",
       "      <td>0</td>\n",
       "    </tr>\n",
       "  </tbody>\n",
       "</table>\n",
       "</div>"
      ],
      "text/plain": [
       "       Location Hurricane   Real GDP  Delta\n",
       "0  Cape May, NJ     Sandy  5023422.0     -4\n",
       "1  Cape May, NJ     Sandy  4535803.0     -3\n",
       "2  Cape May, NJ     Sandy  4933737.0     -2\n",
       "3  Cape May, NJ     Sandy  4843644.0     -1\n",
       "4  Cape May, NJ     Sandy  4674175.0      0"
      ]
     },
     "execution_count": 5,
     "metadata": {},
     "output_type": "execute_result"
    }
   ],
   "source": [
    "#merge on Delta with value between -4 and 10\n",
    "\n",
    "GDP_merge_df = pd.concat([GDP_sandy_df,GDP_katrina_df,GDP_ike_df,GDP_ivan_df,GDP_rita_df ])\n",
    "\n",
    "GDP_merge_df = GDP_merge_df[GDP_merge_df['Delta'].between(-4,7)]\n",
    "\n",
    "\n",
    "GDP_merge_df.head()\n"
   ]
  },
  {
   "cell_type": "code",
   "execution_count": 7,
   "id": "2a298391",
   "metadata": {
    "scrolled": true
   },
   "outputs": [],
   "source": [
    "GDP_merge_df = GDP_merge_df.pivot_table( values = ['Real GDP'], index=['Delta'], columns = 'Hurricane').reset_index()\n"
   ]
  },
  {
   "cell_type": "code",
   "execution_count": 8,
   "id": "6aa9184c",
   "metadata": {},
   "outputs": [
    {
     "data": {
      "image/png": "[encoded data removed]",
      "text/plain": [
       "<Figure size 432x288 with 1 Axes>"
      ]
     },
     "metadata": {
      "needs_background": "light"
     },
     "output_type": "display_data"
    }
   ],
   "source": [
    "GDP_merge_df.plot(x = 'Delta')\n",
    "plt.title('GDP Changes Around Hurricane')\n",
    "plt.xlabel('Years Before and After Hurricanes')\n",
    "plt.ylabel('GDP')\n",
    "plt.legend(loc='center left', bbox_to_anchor=(1.0, 0.5))\n",
    "plt.grid()\n",
    "plt.savefig('./Graphs/GDPGraph.png')"
   ]
  },
  {
   "cell_type": "code",
   "execution_count": null,
   "id": "d8fa31bd",
   "metadata": {},
   "outputs": [],
   "source": []
  }
 ],
 "metadata": {
  "kernelspec": {
   "display_name": "Python 3 (ipykernel)",
   "language": "python",
   "name": "python3"
  },
  "language_info": {
   "codemirror_mode": {
    "name": "ipython",
    "version": 3
   },
   "file_extension": ".py",
   "mimetype": "text/x-python",
   "name": "python",
   "nbconvert_exporter": "python",
   "pygments_lexer": "ipython3",
   "version": "3.9.7"
  }
 },
 "nbformat": 4,
 "nbformat_minor": 5
}
